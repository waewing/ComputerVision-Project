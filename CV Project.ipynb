{
 "cells": [
  {
   "cell_type": "code",
   "execution_count": 1,
   "metadata": {},
   "outputs": [],
   "source": [
    "import requests\n",
    "import os\n",
    "import torch\n",
    "import torchvision\n",
    "import torchvision.transforms as transforms\n",
    "import cv2 as cv\n",
    "import matplotlib.pyplot as plt\n",
    "import numpy as np\n",
    "from sklearn.model_selection import train_test_split\n",
    "from tqdm import tqdm\n",
    "from PIL import Image\n",
    "from torch.utils.data import Dataset, DataLoader\n",
    "\n"
   ]
  },
  {
   "cell_type": "code",
   "execution_count": 2,
   "metadata": {},
   "outputs": [],
   "source": [
    "# set_numbers = [f'0{i}' for i in range(1,8)]\n",
    "# card_numbers = [f'{i:03}' for i in range(1,120)]"
   ]
  },
  {
   "cell_type": "code",
   "execution_count": 3,
   "metadata": {},
   "outputs": [],
   "source": [
    "# base_url = 'https://image.optcg.gg/images/en/'\n",
    "\n",
    "# os.mkdir('C:\\\\Users\\\\Wayne Ewing\\\\Pictures\\\\card images\\\\')"
   ]
  },
  {
   "cell_type": "code",
   "execution_count": 4,
   "metadata": {},
   "outputs": [],
   "source": [
    "# save_path = 'C:\\\\Users\\\\Wayne Ewing\\\\Pictures\\\\optcg_images'\n",
    "# save_path\n"
   ]
  },
  {
   "cell_type": "code",
   "execution_count": 5,
   "metadata": {},
   "outputs": [],
   "source": [
    "# os.mkdir('C:\\\\Users\\\\Wayne Ewing\\\\Pictures\\\\card images\\\\digimontcg_images')\n",
    "# digimon_url = 'https://images.digimoncard.io/images/cards/'\n",
    "# digi_save_path = 'C:\\\\Users\\\\Wayne Ewing\\\\Pictures\\\\card images\\\\digimontcg_images'"
   ]
  },
  {
   "cell_type": "code",
   "execution_count": 6,
   "metadata": {},
   "outputs": [],
   "source": [
    "# digi_set = [f'{i}' for i in range(1,8)]\n",
    "# digi_numbers = [f'{i:03}' for i in range(1,113)]"
   ]
  },
  {
   "cell_type": "code",
   "execution_count": 7,
   "metadata": {},
   "outputs": [],
   "source": [
    "def pull_images(set_range,card_range,url,save_path):\n",
    "    for set_num in set_range:\n",
    "        for card_num in tqdm(card_range):\n",
    "            #Change image url to fit file extension and tcg identifier\n",
    "            image_url = f'{url}BT{set_num}-{card_num}.jpg'\n",
    "        \n",
    "            try:\n",
    "\n",
    "                response = requests.get(image_url)\n",
    "                response.raise_for_status()\n",
    "\n",
    "                #Change image path to fit file extension and tcg identifier\n",
    "                image_path = os.path.join(save_path,f'BT{set_num}-{card_num}.png')\n",
    "\n",
    "                if response.status_code == 200:\n",
    "                    with open(image_path, 'wb') as f:\n",
    "                        f.write(response.content)\n",
    "                else:\n",
    "                    print(f\"Image not found or failed to download: {image_url} (Status code: {response.status_code})\")\n",
    "\n",
    "            except requests.exceptions.HTTPError as err:\n",
    "                print(f'Image not found: {image_url}')"
   ]
  },
  {
   "cell_type": "code",
   "execution_count": 8,
   "metadata": {},
   "outputs": [],
   "source": [
    "def preprocess_image(image_path, output_path, size=(256, 256)):\n",
    "    # print(image_path)\n",
    "    image = cv.imread(image_path)\n",
    "\n",
    "    #resize image\n",
    "    resized_image = cv.resize(image,size,interpolation = cv.INTER_LINEAR)\n",
    "\n",
    "    #normalizing image pixels\n",
    "    resized_image = resized_image.astype('float32')/255.0\n",
    "\n",
    "    normalized_image = (resized_image * 255).astype('uint8')\n",
    "\n",
    "    # print(image)\n",
    "    cv.imwrite(output_path, normalized_image)\n",
    "\n",
    "def directory_resize(base_path,output_path,size=(256,256)):\n",
    "    for file in tqdm(os.listdir(base_path)):\n",
    "        preprocess_image(os.path.join(base_path,file),os.path.join(output_path,file),size)"
   ]
  },
  {
   "cell_type": "code",
   "execution_count": 9,
   "metadata": {},
   "outputs": [],
   "source": [
    "digi_base_path = r'C:\\Users\\Wayne\\OneDrive\\Documents\\GitHub\\ComputerVision-Project\\card_images\\digimontcg_images'\n",
    "op_base_path =  r'C:\\Users\\Wayne\\OneDrive\\Documents\\GitHub\\ComputerVision-Project\\card_images\\optcg_images'\n",
    "\n",
    "digi_output_path = r'C:\\Users\\Wayne\\OneDrive\\Documents\\GitHub\\ComputerVision-Project\\resized_images\\resized_digimontcg_images'\n",
    "op_output_path = r'C:\\Users\\Wayne\\OneDrive\\Documents\\GitHub\\ComputerVision-Project\\resized_images\\resized_optcg_images'"
   ]
  },
  {
   "cell_type": "code",
   "execution_count": 10,
   "metadata": {},
   "outputs": [],
   "source": [
    "# directory_resize(digi_base_path,digi_output_path)\n",
    "# directory_resize(op_base_path,op_output_path)"
   ]
  },
  {
   "cell_type": "code",
   "execution_count": 11,
   "metadata": {},
   "outputs": [],
   "source": [
    "class TradingCardDataset(Dataset):\n",
    "    def __init__(self, image_paths, labels, transform=None):\n",
    "        # self.root_dir = root_dir\n",
    "        self.transform = transform\n",
    "        # self.classes = sorted(os.listdir(root_dir))\n",
    "        self.image_paths = image_paths\n",
    "        self.labels = labels\n",
    "\n",
    "        # for label, class_name in enumerate(self.classes):\n",
    "        #     class_dir = os.path.join(root_dir, class_name)\n",
    "        #     for img_name in os.listdir(class_dir):\n",
    "        #         img_path = os.path.join(class_dir, img_name)\n",
    "        #         self.image_paths.append(img_path)\n",
    "        #         self.labels.append(label)\n",
    "        # self.train_paths, self.test_paths, self.train_labels, self.test_labels = train_test_split(self.image_paths, self.labels, test_size=0.2, random_state=42)     \n",
    "        # self.train_paths, self.val_paths, self.train_labels, self.val_labels = train_test_split(self.train_paths, self.train_labels, test_size=0.25, random_state=42)  \n",
    "\n",
    "    def __len__(self):\n",
    "        return len(self.image_paths)\n",
    "\n",
    "    def __getitem__(self, idx):\n",
    "        img_path = self.image_paths[idx]\n",
    "        image = Image.open(img_path).convert(\"RGB\")\n",
    "        label = self.labels[idx]\n",
    "\n",
    "        if self.transform:\n",
    "            image = self.transform(image)\n",
    "        \n",
    "        print(f\"Loaded image shape: {image.shape}\")  # Print the shape of the image\n",
    "        \n",
    "        return image, label"
   ]
  },
  {
   "cell_type": "code",
   "execution_count": 12,
   "metadata": {},
   "outputs": [],
   "source": [
    "root_dir = r'C:\\Users\\Wayne\\OneDrive\\Documents\\GitHub\\ComputerVision-Project\\resized_images'\n",
    "classes = sorted(os.listdir(root_dir))\n",
    "image_paths = []\n",
    "labels = []\n",
    "\n",
    "for label, class_name in enumerate(classes):\n",
    "    class_dir = os.path.join(root_dir, class_name)\n",
    "    for img_name in os.listdir(class_dir):\n",
    "        img_path = os.path.join(class_dir, img_name)\n",
    "        image_paths.append(img_path)\n",
    "        labels.append(label)\n",
    "\n",
    "train_paths, test_paths, train_labels, test_labels = train_test_split(image_paths, labels, test_size=0.2, random_state=42)\n",
    "train_paths, val_paths, train_labels, val_labels = train_test_split(train_paths, train_labels, test_size=0.25, random_state=42) \n",
    "\n"
   ]
  },
  {
   "cell_type": "code",
   "execution_count": 13,
   "metadata": {},
   "outputs": [],
   "source": [
    "transform = transforms.Compose([transforms.Resize((256,256)), \n",
    "                                transforms.ToTensor()])"
   ]
  },
  {
   "cell_type": "code",
   "execution_count": 14,
   "metadata": {},
   "outputs": [],
   "source": [
    "train_dataset = TradingCardDataset(train_paths, train_labels, transform=transform)\n",
    "val_dataset = TradingCardDataset(val_paths, val_labels)\n",
    "test_dataset = TradingCardDataset(test_paths, test_labels)\n",
    "\n",
    "train_loader = DataLoader(train_dataset, batch_size=1, shuffle=True, num_workers=4)\n",
    "val_loader = DataLoader(val_dataset, batch_size=32, shuffle=False, num_workers=4)\n",
    "test_loader = DataLoader(test_dataset, batch_size=32, shuffle=False, num_workers=4)\n"
   ]
  },
  {
   "cell_type": "code",
   "execution_count": 15,
   "metadata": {},
   "outputs": [
    {
     "name": "stdout",
     "output_type": "stream",
     "text": [
      "Number of images in train dataset: 969\n",
      "Number of images in validation dataset: 324\n",
      "Number of images in test dataset: 324\n",
      "Number of batches in train loader: 969\n",
      "Batch size: 1\n"
     ]
    }
   ],
   "source": [
    "print(f\"Number of images in train dataset: {len(train_dataset)}\")\n",
    "print(f\"Number of images in validation dataset: {len(val_dataset)}\")\n",
    "print(f\"Number of images in test dataset: {len(test_dataset)}\")\n",
    "\n",
    "print(f\"Number of batches in train loader: {len(train_loader)}\")\n",
    "print(f\"Batch size: {train_loader.batch_size}\")"
   ]
  },
  {
   "cell_type": "code",
   "execution_count": 16,
   "metadata": {},
   "outputs": [
    {
     "name": "stdout",
     "output_type": "stream",
     "text": [
      "Loaded image shape: torch.Size([3, 256, 256])\n"
     ]
    }
   ],
   "source": [
    "# Check a single sample from the training dataset\n",
    "sample_image, sample_label = train_dataset[0]\n",
    "\n",
    "def check_loader(loader):\n",
    "    # Attempt to get a single batch of data\n",
    "    try:\n",
    "        images, labels = next(iter(loader))\n",
    "        print(f\"Batch of images shape: {images.shape}\")\n",
    "        print(f\"Batch of labels shape: {labels.shape}\")\n",
    "    except Exception as e:\n",
    "        print(f\"Error while fetching data from loader: {e}\")\n",
    "\n",
    "# Check the train loader with batch size of 1\n",
    "check_loader(train_loader)"
   ]
  },
  {
   "cell_type": "code",
   "execution_count": null,
   "metadata": {},
   "outputs": [],
   "source": [
    "# import time\n",
    "\n",
    "def imshow(img):\n",
    "    img = img /2 + 0.5\n",
    "    npimg = img.numpy()\n",
    "    plt.imshow(np.transpose(npimg, (1,2,0)))\n",
    "    plt.show()\n",
    "\n",
    "# start_time = time.time()\n",
    "\n",
    "# for i, (image, labels) in enumerate(train_loader):\n",
    "#     if i==0:\n",
    "#         print(f\"First batch loaded in {time.time() - start_time:.2f} seconds\")\n",
    "#     break\n",
    "# dataiter = tqdm(iter(train_loader))\n",
    "# images, labels = dataiter.next()\n",
    "\n",
    "# imshow(tqdm(torchvision.utils.make_grid(images)))"
   ]
  }
 ],
 "metadata": {
  "kernelspec": {
   "display_name": "Python 3",
   "language": "python",
   "name": "python3"
  },
  "language_info": {
   "codemirror_mode": {
    "name": "ipython",
    "version": 3
   },
   "file_extension": ".py",
   "mimetype": "text/x-python",
   "name": "python",
   "nbconvert_exporter": "python",
   "pygments_lexer": "ipython3",
   "version": "3.12.5"
  }
 },
 "nbformat": 4,
 "nbformat_minor": 2
}
