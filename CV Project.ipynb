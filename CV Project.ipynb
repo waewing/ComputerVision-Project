{
 "cells": [
  {
   "cell_type": "code",
   "execution_count": 14,
   "metadata": {},
   "outputs": [],
   "source": [
    "import requests\n",
    "import os\n",
    "from bs4 import BeautifulSoup\n",
    "from tqdm import tqdm"
   ]
  },
  {
   "cell_type": "code",
   "execution_count": 19,
   "metadata": {},
   "outputs": [],
   "source": [
    "set_numbers = [f'0{i}' for i in range(1,8)]\n",
    "card_numbers = [f'{i:03}' for i in range(1,120)]"
   ]
  },
  {
   "cell_type": "code",
   "execution_count": 56,
   "metadata": {},
   "outputs": [],
   "source": [
    "base_url = 'https://image.optcg.gg/images/en/'\n",
    "\n",
    "os.mkdir('C:\\\\Users\\\\Wayne Ewing\\\\Pictures\\\\card images\\\\')"
   ]
  },
  {
   "cell_type": "code",
   "execution_count": 54,
   "metadata": {},
   "outputs": [
    {
     "data": {
      "text/plain": [
       "'C:\\\\Users\\\\Wayne Ewing\\\\Pictures\\\\optcg_images'"
      ]
     },
     "execution_count": 54,
     "metadata": {},
     "output_type": "execute_result"
    }
   ],
   "source": [
    "save_path = 'C:\\\\Users\\\\Wayne Ewing\\\\Pictures\\\\optcg_images'\n",
    "save_path\n"
   ]
  },
  {
   "cell_type": "code",
   "execution_count": 68,
   "metadata": {},
   "outputs": [],
   "source": [
    "os.mkdir('C:\\\\Users\\\\Wayne Ewing\\\\Pictures\\\\card images\\\\digimontcg_images')\n",
    "digimon_url = 'https://images.digimoncard.io/images/cards/'\n",
    "digi_save_path = 'C:\\\\Users\\\\Wayne Ewing\\\\Pictures\\\\card images\\\\digimontcg_images'"
   ]
  },
  {
   "cell_type": "code",
   "execution_count": 62,
   "metadata": {},
   "outputs": [],
   "source": [
    "digi_set = [f'{i}' for i in range(1,8)]\n",
    "digi_numbers = [f'{i:03}' for i in range(1,113)]"
   ]
  },
  {
   "cell_type": "code",
   "execution_count": 69,
   "metadata": {},
   "outputs": [
    {
     "name": "stderr",
     "output_type": "stream",
     "text": [
      "100%|██████████| 112/112 [00:05<00:00, 21.64it/s]\n",
      "100%|██████████| 112/112 [00:05<00:00, 19.11it/s]\n",
      "100%|██████████| 112/112 [00:06<00:00, 18.37it/s]\n",
      "100%|██████████| 112/112 [00:05<00:00, 19.77it/s]\n",
      "100%|██████████| 112/112 [00:05<00:00, 19.95it/s]\n",
      "100%|██████████| 112/112 [00:05<00:00, 20.09it/s]\n",
      "100%|██████████| 112/112 [00:05<00:00, 21.29it/s]\n"
     ]
    }
   ],
   "source": [
    "for set_num in digi_set:\n",
    "    for card_num in tqdm(digi_numbers):\n",
    "        image_url = f'{digimon_url}BT{set_num}-{card_num}.jpg'\n",
    "    \n",
    "        try:\n",
    "\n",
    "            response = requests.get(image_url)\n",
    "            response.raise_for_status()\n",
    "\n",
    "            image_path = os.path.join(digi_save_path,f'BT{set_num}-{card_num}.png')\n",
    "\n",
    "            if response.status_code == 200:\n",
    "                with open(image_path, 'wb') as f:\n",
    "                    f.write(response.content)\n",
    "            else:\n",
    "                print(f\"Image not found or failed to download: {image_url} (Status code: {response.status_code})\")\n",
    "\n",
    "        except requests.exceptions.HTTPError as err:\n",
    "            print(f'Image not found: {image_url}')"
   ]
  }
 ],
 "metadata": {
  "kernelspec": {
   "display_name": "Python 3",
   "language": "python",
   "name": "python3"
  },
  "language_info": {
   "codemirror_mode": {
    "name": "ipython",
    "version": 3
   },
   "file_extension": ".py",
   "mimetype": "text/x-python",
   "name": "python",
   "nbconvert_exporter": "python",
   "pygments_lexer": "ipython3",
   "version": "3.12.4"
  }
 },
 "nbformat": 4,
 "nbformat_minor": 2
}
